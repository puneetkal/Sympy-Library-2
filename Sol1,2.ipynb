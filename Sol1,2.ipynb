{
 "cells": [
  {
   "cell_type": "code",
   "execution_count": 32,
   "metadata": {},
   "outputs": [],
   "source": [
    "import sympy as sp"
   ]
  },
  {
   "cell_type": "code",
   "execution_count": 33,
   "metadata": {},
   "outputs": [],
   "source": [
    "x= sp.symbols('x')\n",
    "o=sp.symbols('o')"
   ]
  },
  {
   "cell_type": "markdown",
   "metadata": {},
   "source": [
    "Question 1 ( Integrate)"
   ]
  },
  {
   "cell_type": "code",
   "execution_count": 34,
   "metadata": {},
   "outputs": [
    {
     "data": {
      "text/latex": [
       "$\\displaystyle \\frac{\\pi^{2}}{12}$"
      ],
      "text/plain": [
       "pi**2/12"
      ]
     },
     "execution_count": 34,
     "metadata": {},
     "output_type": "execute_result"
    }
   ],
   "source": [
    "# Sol 1.a\n",
    "f= sp.ln(1+x)/x\n",
    "integral_a = sp.integrate(f , (x , 0 , 1))\n",
    "integral_a\n"
   ]
  },
  {
   "cell_type": "code",
   "execution_count": 35,
   "metadata": {},
   "outputs": [
    {
     "data": {
      "text/latex": [
       "$\\displaystyle \\pi \\operatorname{erf}{\\left(\\frac{1}{2} \\right)}$"
      ],
      "text/plain": [
       "pi*erf(1/2)"
      ]
     },
     "execution_count": 35,
     "metadata": {},
     "output_type": "execute_result"
    }
   ],
   "source": [
    "# Sol 1.b\n",
    "f= (sp.sin(x)*sp.exp(-x**2))/x\n",
    "integral_b = sp.integrate(f , (x, -sp.oo , sp.oo))\n",
    "integral_b"
   ]
  },
  {
   "cell_type": "code",
   "execution_count": 36,
   "metadata": {},
   "outputs": [
    {
     "data": {
      "text/latex": [
       "$\\displaystyle \\int\\limits_{0}^{2 \\pi} \\frac{e^{i x}}{x^{2} + 1}\\, dx$"
      ],
      "text/plain": [
       "Integral(exp(I*x)/(x**2 + 1), (x, 0, 2*pi))"
      ]
     },
     "execution_count": 36,
     "metadata": {},
     "output_type": "execute_result"
    }
   ],
   "source": [
    "# Sol 1.c\n",
    "f=(sp.exp(sp.I * x) / (x**2 + 1))\n",
    "integral_c = sp.integrate( f, ( x , 0 , 2*sp.pi))\n",
    "integral_c"
   ]
  },
  {
   "cell_type": "code",
   "execution_count": 37,
   "metadata": {},
   "outputs": [
    {
     "data": {
      "text/latex": [
       "$\\displaystyle - \\frac{2 \\operatorname{atan}{\\left(3 \\tan{\\left(\\frac{o}{2} \\right)} \\right)}}{3} - \\frac{2 \\pi \\left\\lfloor{\\frac{\\frac{o}{2} - \\frac{\\pi}{2}}{\\pi}}\\right\\rfloor}{3}$"
      ],
      "text/plain": [
       "-2*atan(3*tan(o/2))/3 - 2*pi*floor((o/2 - pi/2)/pi)/3"
      ]
     },
     "execution_count": 37,
     "metadata": {},
     "output_type": "execute_result"
    }
   ],
   "source": [
    "# Sol 1.d\n",
    "f=(1/(5 - 4*sp.cos(o)))\n",
    "integral_d= sp.integrate( f,(o, o, 2*sp.pi))\n",
    "integral_d"
   ]
  },
  {
   "cell_type": "code",
   "execution_count": 40,
   "metadata": {},
   "outputs": [
    {
     "data": {
      "text/latex": [
       "$\\displaystyle \\infty$"
      ],
      "text/plain": [
       "oo"
      ]
     },
     "execution_count": 40,
     "metadata": {},
     "output_type": "execute_result"
    }
   ],
   "source": [
    "# Sol 1.e\n",
    "f= sp.exp(-x)/x\n",
    "integral_e=sp.integrate(f,(x,0,sp.oo))\n",
    "integral_e"
   ]
  },
  {
   "cell_type": "markdown",
   "metadata": {},
   "source": [
    "Question 2 ( Differentiate)"
   ]
  },
  {
   "cell_type": "code",
   "execution_count": 42,
   "metadata": {},
   "outputs": [
    {
     "data": {
      "text/latex": [
       "$\\displaystyle - \\left(\\tan^{2}{\\left(x \\right)} + 1\\right) \\sin{\\left(\\tan{\\left(x \\right)} \\right)} \\cos{\\left(\\cos{\\left(\\tan{\\left(x \\right)} \\right)} \\right)}$"
      ],
      "text/plain": [
       "-(tan(x)**2 + 1)*sin(tan(x))*cos(cos(tan(x)))"
      ]
     },
     "execution_count": 42,
     "metadata": {},
     "output_type": "execute_result"
    }
   ],
   "source": [
    "# Sol 2.a\n",
    "f=sp.sin(sp.cos(sp.tan(x)))\n",
    "diff_a=sp.diff(f,x)\n",
    "diff_a"
   ]
  },
  {
   "cell_type": "code",
   "execution_count": 47,
   "metadata": {},
   "outputs": [
    {
     "data": {
      "text/latex": [
       "$\\displaystyle \\frac{\\begin{cases} \\frac{x}{1 - x} & \\text{for}\\: \\left|{x}\\right| < 1 \\\\\\sum_{n=1}^{\\infty} x^{n} & \\text{otherwise} \\end{cases}}{x}$"
      ],
      "text/plain": [
       "Piecewise((x/(1 - x), Abs(x) < 1), (Sum(x**n, (n, 1, oo)), True))/x"
      ]
     },
     "execution_count": 47,
     "metadata": {},
     "output_type": "execute_result"
    }
   ],
   "source": [
    "# Sol 2.b\n",
    "n=sp.symbols('n')\n",
    "f=(x**n)/n \n",
    "diff_b=sp.diff(f,x)\n",
    "diff_b_sum=sp.summation(diff_b,(n,1,sp.oo))\n",
    "diff_b_sum"
   ]
  },
  {
   "cell_type": "code",
   "execution_count": 49,
   "metadata": {},
   "outputs": [
    {
     "data": {
      "text/latex": [
       "$\\displaystyle \\frac{0.5 x^{x} e^{x^{0.5}} \\log{\\left(x \\right)}}{x^{0.5}} + x^{x} \\left(\\log{\\left(x \\right)} + 1\\right) e^{x^{0.5}} \\log{\\left(x \\right)} + \\frac{x^{x} e^{x^{0.5}}}{x}$"
      ],
      "text/plain": [
       "0.5*x**x*exp(x**0.5)*log(x)/x**0.5 + x**x*(log(x) + 1)*exp(x**0.5)*log(x) + x**x*exp(x**0.5)/x"
      ]
     },
     "execution_count": 49,
     "metadata": {},
     "output_type": "execute_result"
    }
   ],
   "source": [
    "# Sol 2.c\n",
    "f= (x**x)*(sp.ln(x))*sp.exp(x**(1/2))\n",
    "diff_c=sp.diff(f,x)\n",
    "diff_c"
   ]
  },
  {
   "cell_type": "code",
   "execution_count": 51,
   "metadata": {},
   "outputs": [
    {
     "data": {
      "text/latex": [
       "$\\displaystyle - \\frac{\\begin{cases} - \\log{\\left(1 - x \\right)} & \\text{for}\\: \\left|{x}\\right| \\leq 1 \\wedge x \\neq 1 \\\\\\sum_{n=1}^{\\infty} \\frac{x^{n}}{n} & \\text{otherwise} \\end{cases}}{x}$"
      ],
      "text/plain": [
       "-Piecewise((-log(1 - x), Ne(x, 1) & (Abs(x) <= 1)), (Sum(x**n/n, (n, 1, oo)), True))/x"
      ]
     },
     "execution_count": 51,
     "metadata": {},
     "output_type": "execute_result"
    }
   ],
   "source": [
    "# Sol 2.d\n",
    "f = ((-1**n)*(x**n))/(n**2)\n",
    "diff_d=sp.diff(f,x)\n",
    "diff_d_sum=sp.summation(diff_d,(n,1,sp.oo))\n",
    "diff_d_sum"
   ]
  },
  {
   "cell_type": "code",
   "execution_count": 48,
   "metadata": {},
   "outputs": [
    {
     "data": {
      "text/latex": [
       "$\\displaystyle e^{\\sinh{\\left(x \\right)}} \\cosh{\\left(x \\right)}$"
      ],
      "text/plain": [
       "exp(sinh(x))*cosh(x)"
      ]
     },
     "execution_count": 48,
     "metadata": {},
     "output_type": "execute_result"
    }
   ],
   "source": [
    "# Sol 2.e\n",
    "f=sp.exp(sp.sinh(x))\n",
    "diff_e=sp.diff(f,x)\n",
    "diff_e"
   ]
  },
  {
   "cell_type": "code",
   "execution_count": null,
   "metadata": {},
   "outputs": [],
   "source": []
  }
 ],
 "metadata": {
  "kernelspec": {
   "display_name": "Python 3",
   "language": "python",
   "name": "python3"
  },
  "language_info": {
   "codemirror_mode": {
    "name": "ipython",
    "version": 3
   },
   "file_extension": ".py",
   "mimetype": "text/x-python",
   "name": "python",
   "nbconvert_exporter": "python",
   "pygments_lexer": "ipython3",
   "version": "3.11.2"
  }
 },
 "nbformat": 4,
 "nbformat_minor": 2
}
